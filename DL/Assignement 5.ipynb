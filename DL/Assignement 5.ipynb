{
 "cells": [
  {
   "cell_type": "code",
   "execution_count": 42,
   "id": "ee4e0f0a-4a7f-4ea8-abc5-9150ebdd5267",
   "metadata": {},
   "outputs": [],
   "source": [
    "import matplotlib.pyplot as plt\n",
    "import numpy as np\n",
    "import re\n",
    "import nltk\n",
    "from nltk.tokenize import sent_tokenize, word_tokenize\n",
    "import warnings\n",
    "from gensim.models import Word2Vec\n",
    "from sklearn.decomposition import PCA"
   ]
  },
  {
   "cell_type": "code",
   "execution_count": 43,
   "id": "a121da2c-a359-418c-8a70-36473014343e",
   "metadata": {},
   "outputs": [
    {
     "name": "stderr",
     "output_type": "stream",
     "text": [
      "[nltk_data] Downloading package punkt to\n",
      "[nltk_data]     C:\\Users\\Harsh\\AppData\\Roaming\\nltk_data...\n",
      "[nltk_data]   Package punkt is already up-to-date!\n",
      "[nltk_data] Downloading package punkt_tab to\n",
      "[nltk_data]     C:\\Users\\Harsh\\AppData\\Roaming\\nltk_data...\n",
      "[nltk_data]   Package punkt_tab is already up-to-date!\n",
      "[nltk_data] Downloading package stopwords to\n",
      "[nltk_data]     C:\\Users\\Harsh\\AppData\\Roaming\\nltk_data...\n",
      "[nltk_data]   Package stopwords is already up-to-date!\n"
     ]
    },
    {
     "data": {
      "text/plain": [
       "True"
      ]
     },
     "execution_count": 43,
     "metadata": {},
     "output_type": "execute_result"
    }
   ],
   "source": [
    "nltk.download('punkt')\n",
    "nltk.download('punkt_tab')\n",
    "nltk.download('stopwords')"
   ]
  },
  {
   "cell_type": "code",
   "execution_count": 44,
   "id": "49c06d43-5dab-4728-8126-29df5b0c0d03",
   "metadata": {},
   "outputs": [],
   "source": [
    "text = \"\"\"\n",
    "Artificial intelligence (AI) is the simulation of human intelligence processes by machines, \n",
    "especially computer systems. Specific applications of AI include expert systems, natural language \n",
    "processing, speech recognition, and machine vision. AI is transforming industries and redefining \n",
    "the future of work. Machine learning and deep learning are key subfields of AI that enable computers \n",
    "to learn from data and make predictions.\n",
    "\"\"\""
   ]
  },
  {
   "cell_type": "code",
   "execution_count": 45,
   "id": "f55cadd1-3dc1-4a43-a7bc-f1bbf05291b5",
   "metadata": {},
   "outputs": [
    {
     "data": {
      "text/plain": [
       "'artificial intelligence ai is the simulation of human intelligence processes by machines especially computer systems specific applications of ai include expert systems natural language processing speech recognition and machine vision ai is transforming industries and redefining the future of work machine learning and deep learning are key subfields of ai that enable computers to learn from data and make predictions'"
      ]
     },
     "execution_count": 45,
     "metadata": {},
     "output_type": "execute_result"
    }
   ],
   "source": [
    "text = re.sub(r'[^A-Za-z\\s]', ' ', text)\n",
    "text = text.lower()\n",
    "text = re.sub(r'\\s+', ' ', text).strip()\n",
    "\n",
    "text"
   ]
  },
  {
   "cell_type": "code",
   "execution_count": 46,
   "id": "31db6351-ef12-4c0a-a833-ea70c980aa25",
   "metadata": {},
   "outputs": [],
   "source": [
    "all_sent=nltk.sent_tokenize(text)\n",
    "all_words=[nltk.word_tokenize(sent) for sent in all_sent]"
   ]
  },
  {
   "cell_type": "code",
   "execution_count": 47,
   "id": "8c57dd1b-e8c3-4cdf-a143-769b89970996",
   "metadata": {},
   "outputs": [
    {
     "data": {
      "text/plain": [
       "['artificial intelligence ai is the simulation of human intelligence processes by machines especially computer systems specific applications of ai include expert systems natural language processing speech recognition and machine vision ai is transforming industries and redefining the future of work machine learning and deep learning are key subfields of ai that enable computers to learn from data and make predictions']"
      ]
     },
     "execution_count": 47,
     "metadata": {},
     "output_type": "execute_result"
    }
   ],
   "source": [
    "all_sent"
   ]
  },
  {
   "cell_type": "code",
   "execution_count": 48,
   "id": "8021d4e2-8a80-44eb-bdde-4d182e548a11",
   "metadata": {},
   "outputs": [
    {
     "data": {
      "text/plain": [
       "[['artificial',\n",
       "  'intelligence',\n",
       "  'ai',\n",
       "  'is',\n",
       "  'the',\n",
       "  'simulation',\n",
       "  'of',\n",
       "  'human',\n",
       "  'intelligence',\n",
       "  'processes',\n",
       "  'by',\n",
       "  'machines',\n",
       "  'especially',\n",
       "  'computer',\n",
       "  'systems',\n",
       "  'specific',\n",
       "  'applications',\n",
       "  'of',\n",
       "  'ai',\n",
       "  'include',\n",
       "  'expert',\n",
       "  'systems',\n",
       "  'natural',\n",
       "  'language',\n",
       "  'processing',\n",
       "  'speech',\n",
       "  'recognition',\n",
       "  'and',\n",
       "  'machine',\n",
       "  'vision',\n",
       "  'ai',\n",
       "  'is',\n",
       "  'transforming',\n",
       "  'industries',\n",
       "  'and',\n",
       "  'redefining',\n",
       "  'the',\n",
       "  'future',\n",
       "  'of',\n",
       "  'work',\n",
       "  'machine',\n",
       "  'learning',\n",
       "  'and',\n",
       "  'deep',\n",
       "  'learning',\n",
       "  'are',\n",
       "  'key',\n",
       "  'subfields',\n",
       "  'of',\n",
       "  'ai',\n",
       "  'that',\n",
       "  'enable',\n",
       "  'computers',\n",
       "  'to',\n",
       "  'learn',\n",
       "  'from',\n",
       "  'data',\n",
       "  'and',\n",
       "  'make',\n",
       "  'predictions']]"
      ]
     },
     "execution_count": 48,
     "metadata": {},
     "output_type": "execute_result"
    }
   ],
   "source": [
    "all_words"
   ]
  },
  {
   "cell_type": "code",
   "execution_count": 49,
   "id": "fd81a8f8-26ad-458b-ac54-65521ea9630b",
   "metadata": {},
   "outputs": [
    {
     "data": {
      "text/plain": [
       "[['artificial',\n",
       "  'intelligence',\n",
       "  'ai',\n",
       "  'simulation',\n",
       "  'human',\n",
       "  'intelligence',\n",
       "  'processes',\n",
       "  'machines',\n",
       "  'especially',\n",
       "  'computer',\n",
       "  'systems',\n",
       "  'specific',\n",
       "  'applications',\n",
       "  'ai',\n",
       "  'include',\n",
       "  'expert',\n",
       "  'systems',\n",
       "  'natural',\n",
       "  'language',\n",
       "  'processing',\n",
       "  'speech',\n",
       "  'recognition',\n",
       "  'machine',\n",
       "  'vision',\n",
       "  'ai',\n",
       "  'transforming',\n",
       "  'industries',\n",
       "  'redefining',\n",
       "  'future',\n",
       "  'work',\n",
       "  'machine',\n",
       "  'learning',\n",
       "  'deep',\n",
       "  'learning',\n",
       "  'key',\n",
       "  'subfields',\n",
       "  'ai',\n",
       "  'enable',\n",
       "  'computers',\n",
       "  'learn',\n",
       "  'data',\n",
       "  'make',\n",
       "  'predictions']]"
      ]
     },
     "execution_count": 49,
     "metadata": {},
     "output_type": "execute_result"
    }
   ],
   "source": [
    "from nltk.corpus import stopwords\n",
    "\n",
    "for i in range(len(all_words)):\n",
    "  all_words[i]=[w for w in all_words[i] if w not in stopwords.words('english')]\n",
    "all_words"
   ]
  },
  {
   "cell_type": "code",
   "execution_count": 50,
   "id": "19b501e3-1987-4cf1-880b-cc69cfc9f542",
   "metadata": {},
   "outputs": [
    {
     "data": {
      "text/plain": [
       "['artificial',\n",
       " 'intelligence',\n",
       " 'ai',\n",
       " 'simulation',\n",
       " 'human',\n",
       " 'intelligence',\n",
       " 'processes',\n",
       " 'machines',\n",
       " 'especially',\n",
       " 'computer',\n",
       " 'systems',\n",
       " 'specific',\n",
       " 'applications',\n",
       " 'ai',\n",
       " 'include',\n",
       " 'expert',\n",
       " 'systems',\n",
       " 'natural',\n",
       " 'language',\n",
       " 'processing',\n",
       " 'speech',\n",
       " 'recognition',\n",
       " 'machine',\n",
       " 'vision',\n",
       " 'ai',\n",
       " 'transforming',\n",
       " 'industries',\n",
       " 'redefining',\n",
       " 'future',\n",
       " 'work',\n",
       " 'machine',\n",
       " 'learning',\n",
       " 'deep',\n",
       " 'learning',\n",
       " 'key',\n",
       " 'subfields',\n",
       " 'ai',\n",
       " 'enable',\n",
       " 'computers',\n",
       " 'learn',\n",
       " 'data',\n",
       " 'make',\n",
       " 'predictions']"
      ]
     },
     "execution_count": 50,
     "metadata": {},
     "output_type": "execute_result"
    }
   ],
   "source": [
    "data = all_words[0]\n",
    "data"
   ]
  },
  {
   "cell_type": "code",
   "execution_count": 54,
   "id": "3ae9f319-02a5-43af-8cd6-62aaa9c49b6b",
   "metadata": {},
   "outputs": [
    {
     "data": {
      "text/plain": [
       "<gensim.models.word2vec.Word2Vec at 0x1fe45022390>"
      ]
     },
     "execution_count": 54,
     "metadata": {},
     "output_type": "execute_result"
    }
   ],
   "source": [
    "model = Word2Vec(sentences=all_words, vector_size=50, window=3,  min_count=1)\n",
    "model"
   ]
  },
  {
   "cell_type": "code",
   "execution_count": 55,
   "id": "e7ce5622-38d6-41dc-9f56-5005ad6360b2",
   "metadata": {},
   "outputs": [
    {
     "data": {
      "text/plain": [
       "['ai',\n",
       " 'learning',\n",
       " 'systems',\n",
       " 'intelligence',\n",
       " 'machine',\n",
       " 'natural',\n",
       " 'expert',\n",
       " 'include',\n",
       " 'applications',\n",
       " 'specific',\n",
       " 'predictions',\n",
       " 'computer',\n",
       " 'processing',\n",
       " 'especially',\n",
       " 'machines',\n",
       " 'processes',\n",
       " 'human',\n",
       " 'simulation',\n",
       " 'language',\n",
       " 'speech',\n",
       " 'make',\n",
       " 'recognition',\n",
       " 'vision',\n",
       " 'transforming',\n",
       " 'industries',\n",
       " 'redefining',\n",
       " 'future',\n",
       " 'work',\n",
       " 'deep',\n",
       " 'key',\n",
       " 'subfields',\n",
       " 'enable',\n",
       " 'computers',\n",
       " 'learn',\n",
       " 'data',\n",
       " 'artificial']"
      ]
     },
     "execution_count": 55,
     "metadata": {},
     "output_type": "execute_result"
    }
   ],
   "source": [
    "words = list(model.wv.key_to_index.keys())\n",
    "words"
   ]
  },
  {
   "cell_type": "code",
   "execution_count": 56,
   "id": "5b2031f9-4b92-4f83-8300-8bab4cf2d9ca",
   "metadata": {},
   "outputs": [
    {
     "data": {
      "text/plain": [
       "array([ 1.56398211e-02, -1.90265868e-02, -4.12666472e-04,  6.93963701e-03,\n",
       "       -1.88434962e-03,  1.67677682e-02,  1.80281736e-02,  1.30775003e-02,\n",
       "       -1.42240000e-03,  1.54164685e-02, -1.70660950e-02,  6.41913386e-03,\n",
       "       -9.26978048e-03, -1.01840673e-02,  7.18536088e-03,  1.07375011e-02,\n",
       "        1.55401453e-02, -1.15296580e-02,  1.48650249e-02,  1.32418592e-02,\n",
       "       -7.41644902e-03, -1.74933262e-02,  1.08781196e-02,  1.30293285e-02,\n",
       "       -1.57626416e-03, -1.34211406e-02, -1.41833927e-02, -4.98958072e-03,\n",
       "        1.02848448e-02, -7.32872356e-03, -1.87409632e-02,  7.65669346e-03,\n",
       "        9.77627654e-03, -1.28592737e-02,  2.41544191e-03, -4.15379601e-03,\n",
       "        5.19613131e-05, -1.97622366e-02,  5.38080884e-03, -9.50472802e-03,\n",
       "        2.17532041e-03, -3.15048033e-03,  4.38765949e-03, -1.57681350e-02,\n",
       "       -5.42678358e-03,  5.32871811e-03,  1.06961867e-02, -4.79273871e-03,\n",
       "       -1.90238301e-02,  9.00694262e-03], dtype=float32)"
      ]
     },
     "execution_count": 56,
     "metadata": {},
     "output_type": "execute_result"
    }
   ],
   "source": [
    "vector = model.wv['intelligence']\n",
    "vector"
   ]
  },
  {
   "cell_type": "code",
   "execution_count": 60,
   "id": "ac44f784-b07c-4824-b810-720f289f9793",
   "metadata": {},
   "outputs": [
    {
     "name": "stdout",
     "output_type": "stream",
     "text": [
      "Vector for 'systems':\n",
      " [-0.01723802  0.00733346  0.01037822  0.01148357  0.01493309 -0.01234019\n",
      "  0.00221183  0.01209638 -0.00568208 -0.01234978 -0.00081846 -0.01674223\n",
      " -0.0112004   0.01421171  0.006702    0.01445713  0.01360425  0.01506413\n",
      " -0.00757891 -0.00113184  0.00470164 -0.00903228  0.0167807  -0.01971639\n",
      "  0.01352768  0.00583481 -0.00986569  0.00879617 -0.00347893  0.01342122\n",
      "  0.01993023 -0.00872688 -0.00119588 -0.01139177  0.0076992   0.00557369\n",
      "  0.01378458  0.01220318  0.01907226  0.01854526  0.01580173 -0.01397999\n",
      " -0.01830861 -0.00070754 -0.00619243  0.01579199  0.01187155 -0.00309652\n",
      "  0.00302601  0.00358017]\n",
      "\n",
      "Words most similar to 'systems':\n",
      "artificial: 0.2484\n",
      "language: 0.1964\n",
      "machine: 0.1658\n",
      "computer: 0.1552\n",
      "processes: 0.1439\n",
      "transforming: 0.1438\n",
      "future: 0.1435\n",
      "applications: 0.1394\n",
      "enable: 0.1300\n",
      "ai: 0.1268\n"
     ]
    }
   ],
   "source": [
    "wrd = 'systems'\n",
    "\n",
    "if wrd in model.wv.key_to_index:\n",
    "    v1 = model.wv[wrd]\n",
    "    print(f\"Vector for '{wrd}':\\n\", v1)\n",
    "\n",
    "    similar_words = model.wv.most_similar(wrd, topn=10) \n",
    "    print(f\"\\nWords most similar to '{wrd}':\")\n",
    "    for word, similarity in similar_words:\n",
    "        print(f\"{word}: {similarity:.4f}\")\n",
    "else:\n",
    "    print(f\"'{wrd}' not found in the model vocabulary.\")"
   ]
  },
  {
   "cell_type": "code",
   "execution_count": null,
   "id": "f428127e-ea8f-43e1-aea2-d485f770fd9c",
   "metadata": {},
   "outputs": [],
   "source": []
  }
 ],
 "metadata": {
  "kernelspec": {
   "display_name": "Python 3 (ipykernel)",
   "language": "python",
   "name": "python3"
  },
  "language_info": {
   "codemirror_mode": {
    "name": "ipython",
    "version": 3
   },
   "file_extension": ".py",
   "mimetype": "text/x-python",
   "name": "python",
   "nbconvert_exporter": "python",
   "pygments_lexer": "ipython3",
   "version": "3.12.7"
  }
 },
 "nbformat": 4,
 "nbformat_minor": 5
}
